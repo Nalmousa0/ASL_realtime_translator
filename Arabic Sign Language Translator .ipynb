{
 "cells": [
  {
   "cell_type": "code",
   "execution_count": 2,
   "id": "cffc40d5",
   "metadata": {},
   "outputs": [
    {
     "data": {
      "text/plain": [
       "True"
      ]
     },
     "execution_count": 2,
     "metadata": {},
     "output_type": "execute_result"
    }
   ],
   "source": [
    "import torch\n",
    "import matplotlib.pyplot as plt\n",
    "import numpy as np\n",
    "import cv2\n",
    "import time\n",
    "from IPython import display\n",
    "torch.cuda.is_available()"
   ]
  },
  {
   "cell_type": "code",
   "execution_count": 4,
   "metadata": {},
   "outputs": [
    {
     "data": {
      "text/plain": [
       "5.0"
      ]
     },
     "execution_count": 4,
     "metadata": {},
     "output_type": "execute_result"
    }
   ],
   "source": [
    "def devide(x,y):\n",
    "    return x/y if y!=0 else 'Non'\n",
    "\n",
    "devide(10,2)"
   ]
  },
  {
   "cell_type": "code",
   "execution_count": null,
   "metadata": {},
   "outputs": [],
   "source": [
    "#بسم الله الرحمن الرحيم"
   ]
  },
  {
   "cell_type": "code",
   "execution_count": null,
   "id": "1c05d7de",
   "metadata": {},
   "outputs": [],
   "source": [
    "# حملنا شبكة اليولو النسخة الخامسة\n",
    "!git clone https://github.com/ultralytics/yolov5"
   ]
  },
  {
   "cell_type": "code",
   "execution_count": null,
   "id": "3dc78feb",
   "metadata": {},
   "outputs": [],
   "source": [
    "#ندخل لملف yolov5 \n",
    "!cd yolov5\n",
    "\n",
    "#نحمل المتطلبات المسبقة\n",
    "!pip install -r requirements.txt"
   ]
  },
  {
   "cell_type": "code",
   "execution_count": 108,
   "id": "72f4b357",
   "metadata": {},
   "outputs": [
    {
     "name": "stderr",
     "output_type": "stream",
     "text": [
      "IOPub data rate exceeded.\n",
      "The notebook server will temporarily stop sending output\n",
      "to the client in order to avoid crashing it.\n",
      "To change this limit, set the config variable\n",
      "`--NotebookApp.iopub_data_rate_limit`.\n",
      "\n",
      "Current values:\n",
      "NotebookApp.iopub_data_rate_limit=1000000.0 (bytes/sec)\n",
      "NotebookApp.rate_limit_window=3.0 (secs)\n",
      "\n",
      "IOPub data rate exceeded.\n",
      "The notebook server will temporarily stop sending output\n",
      "to the client in order to avoid crashing it.\n",
      "To change this limit, set the config variable\n",
      "`--NotebookApp.iopub_data_rate_limit`.\n",
      "\n",
      "Current values:\n",
      "NotebookApp.iopub_data_rate_limit=1000000.0 (bytes/sec)\n",
      "NotebookApp.rate_limit_window=3.0 (secs)\n",
      "\n"
     ]
    }
   ],
   "source": [
    "!cd yolov5\n",
    "\n",
    "#هنا تمرين الشبكة على بيانات المشروع، حجم الصور 416*416 ولكل حزمة 16 صورة، \n",
    "\n",
    "#مرنّا الشبكة ابتداء وأمررناها على جميع البيانات 50 مرة، وحفظنا الأوزان في المسار الموضح أدناه\n",
    "#yolov5/runs/train/exp5/weights/last.p\n",
    "\n",
    "#وبعد برمجة الهيكل الأساسي للمشروع على ذاك النموذج المبدئي، قمنا بتدريبه مئتي مرة إضافية لرفع الدقة\n",
    "python train.py --img 416 --batch 16 --epochs 200 --data sign.yaml --weights runs/train/exp5/weights/last.pt --workers 2\n"
   ]
  },
  {
   "cell_type": "code",
   "execution_count": 3,
   "id": "60da4f82",
   "metadata": {},
   "outputs": [
    {
     "name": "stderr",
     "output_type": "stream",
     "text": [
      "Downloading: \"https://github.com/ultralytics/yolov5/zipball/master\" to C:\\Users\\Master/.cache\\torch\\hub\\master.zip\n",
      "YOLOv5  2023-6-7 Python-3.10.2 torch-2.0.1+cu117 CUDA:0 (NVIDIA GeForce GTX 970, 4096MiB)\n",
      "\n",
      "Fusing layers... \n",
      "Model summary: 157 layers, 7096429 parameters, 0 gradients, 16.0 GFLOPs\n",
      "Adding AutoShape... \n"
     ]
    }
   ],
   "source": [
    "#هنا نستدعي نموذجنا الممرن من المسار الموضح أدناه\n",
    "\n",
    "#yolov5/runs/train/exp7/weights/best.pt\n",
    "\n",
    "\n",
    "# علما بأنا قمنا برفع الأوزان التي مرنّاها فعلى من يحملها أن يستبدل المسار أدناه بمسار الأوزان في جهازه\n",
    "\n",
    "model = torch.hub.load('ultralytics/yolov5', 'custom', path = 'yolov5/runs/train/exp7/weights/best.pt', force_reload = True)\n"
   ]
  },
  {
   "cell_type": "code",
   "execution_count": 4,
   "id": "0f656dbb",
   "metadata": {},
   "outputs": [
    {
     "data": {
      "text/plain": [
       "{0: 'ain',\n",
       " 1: 'al',\n",
       " 2: 'aleff',\n",
       " 3: 'bb',\n",
       " 4: 'dal',\n",
       " 5: 'dha',\n",
       " 6: 'dhad',\n",
       " 7: 'fa',\n",
       " 8: 'gaaf',\n",
       " 9: 'ghain',\n",
       " 10: 'ha',\n",
       " 11: 'haa',\n",
       " 12: 'jeem',\n",
       " 13: 'kaaf',\n",
       " 14: 'khaa',\n",
       " 15: 'la',\n",
       " 16: 'laam',\n",
       " 17: 'meem',\n",
       " 18: 'nun',\n",
       " 19: 'ra',\n",
       " 20: 'saad',\n",
       " 21: 'seen',\n",
       " 22: 'sheen',\n",
       " 23: 'ta',\n",
       " 24: 'taa',\n",
       " 25: 'thaa',\n",
       " 26: 'thal',\n",
       " 27: 'toot',\n",
       " 28: 'waw',\n",
       " 29: 'ya',\n",
       " 30: 'yaa',\n",
       " 31: 'zay'}"
      ]
     },
     "execution_count": 4,
     "metadata": {},
     "output_type": "execute_result"
    }
   ],
   "source": [
    "model.names"
   ]
  },
  {
   "cell_type": "code",
   "execution_count": 5,
   "id": "b2338934",
   "metadata": {},
   "outputs": [],
   "source": [
    "class_to_letter2 = {0: 'ع',\n",
    " 1: 'لﺍ',\n",
    " 2: 'ا',\n",
    " 3: 'ب',\n",
    " 4: 'د',\n",
    " 5: 'ظ',\n",
    " 6: 'ض',\n",
    " 7: 'ف',\n",
    " 8: 'ق',\n",
    " 9: 'غ',\n",
    " 10: 'ه',\n",
    " 11: 'ح',\n",
    " 12: 'ج',\n",
    " 13: 'ك',\n",
    " 14: 'خ',\n",
    " 15: 'فﺬﺣ',\n",
    " 16: 'ل',\n",
    " 17: 'م',\n",
    " 18: 'ن',\n",
    " 19: 'ر',\n",
    " 20: 'ص',\n",
    " 21: 'س',\n",
    " 22: 'ش',\n",
    " 23: 'ت',\n",
    " 24: 'ط',\n",
    " 25: 'ث',\n",
    " 26: 'ذ',\n",
    " 27: 'ة',\n",
    " 28: 'و',\n",
    " 29: 'ﺔﻓﺎﺴﻤﻟﺍ', \n",
    " 30: 'ي',\n",
    " 31: 'ز'}"
   ]
  },
  {
   "cell_type": "code",
   "execution_count": 6,
   "id": "e25f880a",
   "metadata": {},
   "outputs": [],
   "source": [
    "for idx,name in model.names.items():\n",
    "    model.names[idx] = class_to_letter2[idx]\n",
    "    \n",
    "    #هنا قمنا بمقابلة كل اسم إنجليزي للحرف العربي، بنظيره من الرموز العربية"
   ]
  },
  {
   "cell_type": "code",
   "execution_count": 7,
   "id": "56236ee9",
   "metadata": {},
   "outputs": [
    {
     "data": {
      "text/plain": [
       "{0: 'ع',\n",
       " 1: 'لﺍ',\n",
       " 2: 'ا',\n",
       " 3: 'ب',\n",
       " 4: 'د',\n",
       " 5: 'ظ',\n",
       " 6: 'ض',\n",
       " 7: 'ف',\n",
       " 8: 'ق',\n",
       " 9: 'غ',\n",
       " 10: 'ه',\n",
       " 11: 'ح',\n",
       " 12: 'ج',\n",
       " 13: 'ك',\n",
       " 14: 'خ',\n",
       " 15: 'فﺬﺣ',\n",
       " 16: 'ل',\n",
       " 17: 'م',\n",
       " 18: 'ن',\n",
       " 19: 'ر',\n",
       " 20: 'ص',\n",
       " 21: 'س',\n",
       " 22: 'ش',\n",
       " 23: 'ت',\n",
       " 24: 'ط',\n",
       " 25: 'ث',\n",
       " 26: 'ذ',\n",
       " 27: 'ة',\n",
       " 28: 'و',\n",
       " 29: 'ﺔﻓﺎﺴﻤﻟﺍ',\n",
       " 30: 'ي',\n",
       " 31: 'ز'}"
      ]
     },
     "execution_count": 7,
     "metadata": {},
     "output_type": "execute_result"
    }
   ],
   "source": [
    "model.names"
   ]
  },
  {
   "cell_type": "code",
   "execution_count": 15,
   "id": "59e7ab37",
   "metadata": {},
   "outputs": [],
   "source": [
    "model.conf = 0.82 #أدنى درجة ثقة مقبولة ليعدّ الرصد معتبرًا"
   ]
  },
  {
   "cell_type": "code",
   "execution_count": 9,
   "id": "4ed9845d",
   "metadata": {},
   "outputs": [],
   "source": [
    "class_to_letter = {0: 'ع',\n",
    " 1: 'ى',\n",
    " 2: 'ا',\n",
    " 3: 'ب',\n",
    " 4: 'د',\n",
    " 5: 'ظ',\n",
    " 6: 'ض',\n",
    " 7: 'ف',\n",
    " 8: 'ق',\n",
    " 9: 'غ',\n",
    " 10: 'ه',\n",
    " 11: 'ح',\n",
    " 12: 'ج',\n",
    " 13: 'ك',\n",
    " 14: 'خ',\n",
    " 15: 'ﻻ',\n",
    " 16: 'ل',\n",
    " 17: 'م',\n",
    " 18: 'ن',\n",
    " 19: 'ر',\n",
    " 20: 'ص',\n",
    " 21: 'س',\n",
    " 22: 'ش',\n",
    " 23: 'ت',\n",
    " 24: 'ط',\n",
    " 25: 'ث',\n",
    " 26: 'ذ',\n",
    " 27: 'ة',\n",
    " 28: 'و',\n",
    " 29: ' ',\n",
    " 30: 'ي',\n",
    " 31: 'ز'}"
   ]
  },
  {
   "cell_type": "code",
   "execution_count": 16,
   "id": "cc005679",
   "metadata": {
    "scrolled": false
   },
   "outputs": [
    {
     "name": "stdout",
     "output_type": "stream",
     "text": [
      "السلام عليكم\r"
     ]
    }
   ],
   "source": [
    "\n",
    "\n",
    "\n",
    "text = \"\"\n",
    "cap = cv2.VideoCapture(0) #البث الحي\n",
    "cond = None \n",
    "\n",
    "while cap.isOpened(): #اللوب الأساسي\n",
    " \n",
    "    ret, frame = cap.read()\n",
    "\n",
    "    results = model(frame)\n",
    "    cv2.imshow(\"Sign Language Translator\", results.render()[0])\n",
    "\n",
    "    if results.pred[0].shape[0] and results.pred[0].shape[1]: #لا يدخل إلا إن رصد رمزًا\n",
    "        current_letter = class_to_letter[int(results.pred[0][0][-1])] #انتزاع الحرف من النتيجة\n",
    "    \n",
    "    \n",
    "    \n",
    "         #حشد الحروف وطباعتها مباشرة\n",
    "        if (current_letter != text[-1:]):\n",
    "            \n",
    "            if (current_letter != 'ﻻ'):\n",
    "                text += current_letter\n",
    "                display.clear_output(wait=True)\n",
    "\n",
    "                print(text,end=\"\\r\")\n",
    "\n",
    "    \n",
    "    \n",
    "        #خاصية حذف الحرف أثناء الترجمة المباشرة\n",
    "        if (current_letter == 'ﻻ'):\n",
    "            if cond is None or time.time() - cond >= 0.5:\n",
    "                text = text[:-1]\n",
    "                cond = time.time()\n",
    "                display.clear_output(wait=True)\n",
    "                print(text,end=\"\\r\")\n",
    "\n",
    "\n",
    "            \n",
    "\n",
    "        #qللخروج اضغط حرف الـ\n",
    "    if (cv2.waitKey(3) & 0xFF == ord('q')) :\n",
    "        break\n",
    "\n",
    "cap.release()\n",
    "cv2.destroyAllWindows()\n",
    "\n"
   ]
  },
  {
   "cell_type": "code",
   "execution_count": null,
   "id": "3ca752d4",
   "metadata": {},
   "outputs": [],
   "source": []
  }
 ],
 "metadata": {
  "kernelspec": {
   "display_name": "Python 3 (ipykernel)",
   "language": "python",
   "name": "python3"
  },
  "language_info": {
   "codemirror_mode": {
    "name": "ipython",
    "version": 3
   },
   "file_extension": ".py",
   "mimetype": "text/x-python",
   "name": "python",
   "nbconvert_exporter": "python",
   "pygments_lexer": "ipython3",
   "version": "3.8.18"
  }
 },
 "nbformat": 4,
 "nbformat_minor": 5
}
